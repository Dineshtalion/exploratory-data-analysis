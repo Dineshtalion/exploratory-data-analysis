{
  "nbformat": 4,
  "nbformat_minor": 0,
  "metadata": {
    "colab": {
      "provenance": []
    },
    "kernelspec": {
      "name": "python3",
      "display_name": "Python 3"
    },
    "language_info": {
      "name": "python"
    }
  },
  "cells": [
    {
      "cell_type": "code",
      "execution_count": 27,
      "metadata": {
        "id": "nsFSWL5TySgf"
      },
      "outputs": [],
      "source": [
        "import pandas as pd\n",
        "import numpy as np\n",
        "import matplotlib.pyplot as plt\n",
        "import seaborn as sns"
      ]
    },
    {
      "cell_type": "code",
      "source": [
        "data=pd.read_csv('/content/samplebankloandata.csv')"
      ],
      "metadata": {
        "id": "MaXLeAnfyoRd"
      },
      "execution_count": 28,
      "outputs": []
    },
    {
      "cell_type": "code",
      "source": [
        "data.dtypes"
      ],
      "metadata": {
        "colab": {
          "base_uri": "https://localhost:8080/"
        },
        "id": "B5FNqhBSy0Xm",
        "outputId": "45745678-46af-40aa-ae10-e0d157acef79"
      },
      "execution_count": 29,
      "outputs": [
        {
          "output_type": "execute_result",
          "data": {
            "text/plain": [
              "id                        int64\n",
              "year                      int64\n",
              "issue_d                  object\n",
              "final_d                 float64\n",
              "emp_length_int          float64\n",
              "home_ownership           object\n",
              "home_ownership_cat      float64\n",
              "income_category          object\n",
              "annual_inc              float64\n",
              "income_cat              float64\n",
              "loan_amount             float64\n",
              "term                     object\n",
              "term_cat                float64\n",
              "application_type         object\n",
              "application_type_cat    float64\n",
              "purpose                  object\n",
              "purpose_cat             float64\n",
              "interest_payments        object\n",
              "interest_payment_cat    float64\n",
              "loan_condition           object\n",
              "loan_condition_cat      float64\n",
              "interest_rate           float64\n",
              "grade                    object\n",
              "grade_cat               float64\n",
              "dti                     float64\n",
              "total_pymnt             float64\n",
              "total_rec_prncp         float64\n",
              "recoveries              float64\n",
              "installment             float64\n",
              "region                   object\n",
              "dtype: object"
            ]
          },
          "metadata": {},
          "execution_count": 29
        }
      ]
    },
    {
      "cell_type": "code",
      "source": [
        "data.head()"
      ],
      "metadata": {
        "colab": {
          "base_uri": "https://localhost:8080/",
          "height": 255
        },
        "id": "qoYqGYdxy1TF",
        "outputId": "02ff8cb7-a6a5-47db-b2d6-1732ba5e7dc9"
      },
      "execution_count": 30,
      "outputs": [
        {
          "output_type": "execute_result",
          "data": {
            "text/plain": [
              "        id  year    issue_d    final_d  emp_length_int home_ownership  \\\n",
              "0  1077501  2011  12/1/2011  1012015.0            10.0           RENT   \n",
              "1  1077430  2011  12/1/2011  1042013.0             0.5           RENT   \n",
              "2  1077175  2011  12/1/2011  1062014.0            10.0           RENT   \n",
              "3  1076863  2011  12/1/2011  1012015.0            10.0           RENT   \n",
              "4  1075358  2011  12/1/2011  1012016.0             1.0           RENT   \n",
              "\n",
              "   home_ownership_cat income_category  annual_inc  income_cat  ...  \\\n",
              "0                 1.0             Low     24000.0         1.0  ...   \n",
              "1                 1.0             Low     30000.0         1.0  ...   \n",
              "2                 1.0             Low     12252.0         1.0  ...   \n",
              "3                 1.0             Low     49200.0         1.0  ...   \n",
              "4                 1.0             Low     80000.0         1.0  ...   \n",
              "\n",
              "   loan_condition_cat interest_rate  grade grade_cat    dti   total_pymnt  \\\n",
              "0                 0.0         10.65      B       2.0  27.65   5861.071414   \n",
              "1                 1.0         15.27      C       3.0   1.00   1008.710000   \n",
              "2                 0.0         15.96      C       3.0   8.72   3003.653644   \n",
              "3                 0.0         13.49      C       3.0  20.00  12226.302210   \n",
              "4                 0.0         12.69      B       2.0  17.94   3242.170000   \n",
              "\n",
              "   total_rec_prncp recoveries  installment    region  \n",
              "0          5000.00       0.00       162.87   munster  \n",
              "1           456.46     117.08        59.83  leinster  \n",
              "2          2400.00       0.00        84.33  cannught  \n",
              "3         10000.00       0.00       339.31    ulster  \n",
              "4          2233.10       0.00        67.79    ulster  \n",
              "\n",
              "[5 rows x 30 columns]"
            ],
            "text/html": [
              "\n",
              "  <div id=\"df-137a558c-e0b3-47a2-8faf-69538e3cf9ef\" class=\"colab-df-container\">\n",
              "    <div>\n",
              "<style scoped>\n",
              "    .dataframe tbody tr th:only-of-type {\n",
              "        vertical-align: middle;\n",
              "    }\n",
              "\n",
              "    .dataframe tbody tr th {\n",
              "        vertical-align: top;\n",
              "    }\n",
              "\n",
              "    .dataframe thead th {\n",
              "        text-align: right;\n",
              "    }\n",
              "</style>\n",
              "<table border=\"1\" class=\"dataframe\">\n",
              "  <thead>\n",
              "    <tr style=\"text-align: right;\">\n",
              "      <th></th>\n",
              "      <th>id</th>\n",
              "      <th>year</th>\n",
              "      <th>issue_d</th>\n",
              "      <th>final_d</th>\n",
              "      <th>emp_length_int</th>\n",
              "      <th>home_ownership</th>\n",
              "      <th>home_ownership_cat</th>\n",
              "      <th>income_category</th>\n",
              "      <th>annual_inc</th>\n",
              "      <th>income_cat</th>\n",
              "      <th>...</th>\n",
              "      <th>loan_condition_cat</th>\n",
              "      <th>interest_rate</th>\n",
              "      <th>grade</th>\n",
              "      <th>grade_cat</th>\n",
              "      <th>dti</th>\n",
              "      <th>total_pymnt</th>\n",
              "      <th>total_rec_prncp</th>\n",
              "      <th>recoveries</th>\n",
              "      <th>installment</th>\n",
              "      <th>region</th>\n",
              "    </tr>\n",
              "  </thead>\n",
              "  <tbody>\n",
              "    <tr>\n",
              "      <th>0</th>\n",
              "      <td>1077501</td>\n",
              "      <td>2011</td>\n",
              "      <td>12/1/2011</td>\n",
              "      <td>1012015.0</td>\n",
              "      <td>10.0</td>\n",
              "      <td>RENT</td>\n",
              "      <td>1.0</td>\n",
              "      <td>Low</td>\n",
              "      <td>24000.0</td>\n",
              "      <td>1.0</td>\n",
              "      <td>...</td>\n",
              "      <td>0.0</td>\n",
              "      <td>10.65</td>\n",
              "      <td>B</td>\n",
              "      <td>2.0</td>\n",
              "      <td>27.65</td>\n",
              "      <td>5861.071414</td>\n",
              "      <td>5000.00</td>\n",
              "      <td>0.00</td>\n",
              "      <td>162.87</td>\n",
              "      <td>munster</td>\n",
              "    </tr>\n",
              "    <tr>\n",
              "      <th>1</th>\n",
              "      <td>1077430</td>\n",
              "      <td>2011</td>\n",
              "      <td>12/1/2011</td>\n",
              "      <td>1042013.0</td>\n",
              "      <td>0.5</td>\n",
              "      <td>RENT</td>\n",
              "      <td>1.0</td>\n",
              "      <td>Low</td>\n",
              "      <td>30000.0</td>\n",
              "      <td>1.0</td>\n",
              "      <td>...</td>\n",
              "      <td>1.0</td>\n",
              "      <td>15.27</td>\n",
              "      <td>C</td>\n",
              "      <td>3.0</td>\n",
              "      <td>1.00</td>\n",
              "      <td>1008.710000</td>\n",
              "      <td>456.46</td>\n",
              "      <td>117.08</td>\n",
              "      <td>59.83</td>\n",
              "      <td>leinster</td>\n",
              "    </tr>\n",
              "    <tr>\n",
              "      <th>2</th>\n",
              "      <td>1077175</td>\n",
              "      <td>2011</td>\n",
              "      <td>12/1/2011</td>\n",
              "      <td>1062014.0</td>\n",
              "      <td>10.0</td>\n",
              "      <td>RENT</td>\n",
              "      <td>1.0</td>\n",
              "      <td>Low</td>\n",
              "      <td>12252.0</td>\n",
              "      <td>1.0</td>\n",
              "      <td>...</td>\n",
              "      <td>0.0</td>\n",
              "      <td>15.96</td>\n",
              "      <td>C</td>\n",
              "      <td>3.0</td>\n",
              "      <td>8.72</td>\n",
              "      <td>3003.653644</td>\n",
              "      <td>2400.00</td>\n",
              "      <td>0.00</td>\n",
              "      <td>84.33</td>\n",
              "      <td>cannught</td>\n",
              "    </tr>\n",
              "    <tr>\n",
              "      <th>3</th>\n",
              "      <td>1076863</td>\n",
              "      <td>2011</td>\n",
              "      <td>12/1/2011</td>\n",
              "      <td>1012015.0</td>\n",
              "      <td>10.0</td>\n",
              "      <td>RENT</td>\n",
              "      <td>1.0</td>\n",
              "      <td>Low</td>\n",
              "      <td>49200.0</td>\n",
              "      <td>1.0</td>\n",
              "      <td>...</td>\n",
              "      <td>0.0</td>\n",
              "      <td>13.49</td>\n",
              "      <td>C</td>\n",
              "      <td>3.0</td>\n",
              "      <td>20.00</td>\n",
              "      <td>12226.302210</td>\n",
              "      <td>10000.00</td>\n",
              "      <td>0.00</td>\n",
              "      <td>339.31</td>\n",
              "      <td>ulster</td>\n",
              "    </tr>\n",
              "    <tr>\n",
              "      <th>4</th>\n",
              "      <td>1075358</td>\n",
              "      <td>2011</td>\n",
              "      <td>12/1/2011</td>\n",
              "      <td>1012016.0</td>\n",
              "      <td>1.0</td>\n",
              "      <td>RENT</td>\n",
              "      <td>1.0</td>\n",
              "      <td>Low</td>\n",
              "      <td>80000.0</td>\n",
              "      <td>1.0</td>\n",
              "      <td>...</td>\n",
              "      <td>0.0</td>\n",
              "      <td>12.69</td>\n",
              "      <td>B</td>\n",
              "      <td>2.0</td>\n",
              "      <td>17.94</td>\n",
              "      <td>3242.170000</td>\n",
              "      <td>2233.10</td>\n",
              "      <td>0.00</td>\n",
              "      <td>67.79</td>\n",
              "      <td>ulster</td>\n",
              "    </tr>\n",
              "  </tbody>\n",
              "</table>\n",
              "<p>5 rows × 30 columns</p>\n",
              "</div>\n",
              "    <div class=\"colab-df-buttons\">\n",
              "\n",
              "  <div class=\"colab-df-container\">\n",
              "    <button class=\"colab-df-convert\" onclick=\"convertToInteractive('df-137a558c-e0b3-47a2-8faf-69538e3cf9ef')\"\n",
              "            title=\"Convert this dataframe to an interactive table.\"\n",
              "            style=\"display:none;\">\n",
              "\n",
              "  <svg xmlns=\"http://www.w3.org/2000/svg\" height=\"24px\" viewBox=\"0 -960 960 960\">\n",
              "    <path d=\"M120-120v-720h720v720H120Zm60-500h600v-160H180v160Zm220 220h160v-160H400v160Zm0 220h160v-160H400v160ZM180-400h160v-160H180v160Zm440 0h160v-160H620v160ZM180-180h160v-160H180v160Zm440 0h160v-160H620v160Z\"/>\n",
              "  </svg>\n",
              "    </button>\n",
              "\n",
              "  <style>\n",
              "    .colab-df-container {\n",
              "      display:flex;\n",
              "      gap: 12px;\n",
              "    }\n",
              "\n",
              "    .colab-df-convert {\n",
              "      background-color: #E8F0FE;\n",
              "      border: none;\n",
              "      border-radius: 50%;\n",
              "      cursor: pointer;\n",
              "      display: none;\n",
              "      fill: #1967D2;\n",
              "      height: 32px;\n",
              "      padding: 0 0 0 0;\n",
              "      width: 32px;\n",
              "    }\n",
              "\n",
              "    .colab-df-convert:hover {\n",
              "      background-color: #E2EBFA;\n",
              "      box-shadow: 0px 1px 2px rgba(60, 64, 67, 0.3), 0px 1px 3px 1px rgba(60, 64, 67, 0.15);\n",
              "      fill: #174EA6;\n",
              "    }\n",
              "\n",
              "    .colab-df-buttons div {\n",
              "      margin-bottom: 4px;\n",
              "    }\n",
              "\n",
              "    [theme=dark] .colab-df-convert {\n",
              "      background-color: #3B4455;\n",
              "      fill: #D2E3FC;\n",
              "    }\n",
              "\n",
              "    [theme=dark] .colab-df-convert:hover {\n",
              "      background-color: #434B5C;\n",
              "      box-shadow: 0px 1px 3px 1px rgba(0, 0, 0, 0.15);\n",
              "      filter: drop-shadow(0px 1px 2px rgba(0, 0, 0, 0.3));\n",
              "      fill: #FFFFFF;\n",
              "    }\n",
              "  </style>\n",
              "\n",
              "    <script>\n",
              "      const buttonEl =\n",
              "        document.querySelector('#df-137a558c-e0b3-47a2-8faf-69538e3cf9ef button.colab-df-convert');\n",
              "      buttonEl.style.display =\n",
              "        google.colab.kernel.accessAllowed ? 'block' : 'none';\n",
              "\n",
              "      async function convertToInteractive(key) {\n",
              "        const element = document.querySelector('#df-137a558c-e0b3-47a2-8faf-69538e3cf9ef');\n",
              "        const dataTable =\n",
              "          await google.colab.kernel.invokeFunction('convertToInteractive',\n",
              "                                                    [key], {});\n",
              "        if (!dataTable) return;\n",
              "\n",
              "        const docLinkHtml = 'Like what you see? Visit the ' +\n",
              "          '<a target=\"_blank\" href=https://colab.research.google.com/notebooks/data_table.ipynb>data table notebook</a>'\n",
              "          + ' to learn more about interactive tables.';\n",
              "        element.innerHTML = '';\n",
              "        dataTable['output_type'] = 'display_data';\n",
              "        await google.colab.output.renderOutput(dataTable, element);\n",
              "        const docLink = document.createElement('div');\n",
              "        docLink.innerHTML = docLinkHtml;\n",
              "        element.appendChild(docLink);\n",
              "      }\n",
              "    </script>\n",
              "  </div>\n",
              "\n",
              "\n",
              "<div id=\"df-3acc8bf0-ed28-4c90-84f1-e61a3763b99b\">\n",
              "  <button class=\"colab-df-quickchart\" onclick=\"quickchart('df-3acc8bf0-ed28-4c90-84f1-e61a3763b99b')\"\n",
              "            title=\"Suggest charts\"\n",
              "            style=\"display:none;\">\n",
              "\n",
              "<svg xmlns=\"http://www.w3.org/2000/svg\" height=\"24px\"viewBox=\"0 0 24 24\"\n",
              "     width=\"24px\">\n",
              "    <g>\n",
              "        <path d=\"M19 3H5c-1.1 0-2 .9-2 2v14c0 1.1.9 2 2 2h14c1.1 0 2-.9 2-2V5c0-1.1-.9-2-2-2zM9 17H7v-7h2v7zm4 0h-2V7h2v10zm4 0h-2v-4h2v4z\"/>\n",
              "    </g>\n",
              "</svg>\n",
              "  </button>\n",
              "\n",
              "<style>\n",
              "  .colab-df-quickchart {\n",
              "      --bg-color: #E8F0FE;\n",
              "      --fill-color: #1967D2;\n",
              "      --hover-bg-color: #E2EBFA;\n",
              "      --hover-fill-color: #174EA6;\n",
              "      --disabled-fill-color: #AAA;\n",
              "      --disabled-bg-color: #DDD;\n",
              "  }\n",
              "\n",
              "  [theme=dark] .colab-df-quickchart {\n",
              "      --bg-color: #3B4455;\n",
              "      --fill-color: #D2E3FC;\n",
              "      --hover-bg-color: #434B5C;\n",
              "      --hover-fill-color: #FFFFFF;\n",
              "      --disabled-bg-color: #3B4455;\n",
              "      --disabled-fill-color: #666;\n",
              "  }\n",
              "\n",
              "  .colab-df-quickchart {\n",
              "    background-color: var(--bg-color);\n",
              "    border: none;\n",
              "    border-radius: 50%;\n",
              "    cursor: pointer;\n",
              "    display: none;\n",
              "    fill: var(--fill-color);\n",
              "    height: 32px;\n",
              "    padding: 0;\n",
              "    width: 32px;\n",
              "  }\n",
              "\n",
              "  .colab-df-quickchart:hover {\n",
              "    background-color: var(--hover-bg-color);\n",
              "    box-shadow: 0 1px 2px rgba(60, 64, 67, 0.3), 0 1px 3px 1px rgba(60, 64, 67, 0.15);\n",
              "    fill: var(--button-hover-fill-color);\n",
              "  }\n",
              "\n",
              "  .colab-df-quickchart-complete:disabled,\n",
              "  .colab-df-quickchart-complete:disabled:hover {\n",
              "    background-color: var(--disabled-bg-color);\n",
              "    fill: var(--disabled-fill-color);\n",
              "    box-shadow: none;\n",
              "  }\n",
              "\n",
              "  .colab-df-spinner {\n",
              "    border: 2px solid var(--fill-color);\n",
              "    border-color: transparent;\n",
              "    border-bottom-color: var(--fill-color);\n",
              "    animation:\n",
              "      spin 1s steps(1) infinite;\n",
              "  }\n",
              "\n",
              "  @keyframes spin {\n",
              "    0% {\n",
              "      border-color: transparent;\n",
              "      border-bottom-color: var(--fill-color);\n",
              "      border-left-color: var(--fill-color);\n",
              "    }\n",
              "    20% {\n",
              "      border-color: transparent;\n",
              "      border-left-color: var(--fill-color);\n",
              "      border-top-color: var(--fill-color);\n",
              "    }\n",
              "    30% {\n",
              "      border-color: transparent;\n",
              "      border-left-color: var(--fill-color);\n",
              "      border-top-color: var(--fill-color);\n",
              "      border-right-color: var(--fill-color);\n",
              "    }\n",
              "    40% {\n",
              "      border-color: transparent;\n",
              "      border-right-color: var(--fill-color);\n",
              "      border-top-color: var(--fill-color);\n",
              "    }\n",
              "    60% {\n",
              "      border-color: transparent;\n",
              "      border-right-color: var(--fill-color);\n",
              "    }\n",
              "    80% {\n",
              "      border-color: transparent;\n",
              "      border-right-color: var(--fill-color);\n",
              "      border-bottom-color: var(--fill-color);\n",
              "    }\n",
              "    90% {\n",
              "      border-color: transparent;\n",
              "      border-bottom-color: var(--fill-color);\n",
              "    }\n",
              "  }\n",
              "</style>\n",
              "\n",
              "  <script>\n",
              "    async function quickchart(key) {\n",
              "      const quickchartButtonEl =\n",
              "        document.querySelector('#' + key + ' button');\n",
              "      quickchartButtonEl.disabled = true;  // To prevent multiple clicks.\n",
              "      quickchartButtonEl.classList.add('colab-df-spinner');\n",
              "      try {\n",
              "        const charts = await google.colab.kernel.invokeFunction(\n",
              "            'suggestCharts', [key], {});\n",
              "      } catch (error) {\n",
              "        console.error('Error during call to suggestCharts:', error);\n",
              "      }\n",
              "      quickchartButtonEl.classList.remove('colab-df-spinner');\n",
              "      quickchartButtonEl.classList.add('colab-df-quickchart-complete');\n",
              "    }\n",
              "    (() => {\n",
              "      let quickchartButtonEl =\n",
              "        document.querySelector('#df-3acc8bf0-ed28-4c90-84f1-e61a3763b99b button');\n",
              "      quickchartButtonEl.style.display =\n",
              "        google.colab.kernel.accessAllowed ? 'block' : 'none';\n",
              "    })();\n",
              "  </script>\n",
              "</div>\n",
              "\n",
              "    </div>\n",
              "  </div>\n"
            ],
            "application/vnd.google.colaboratory.intrinsic+json": {
              "type": "dataframe",
              "variable_name": "data"
            }
          },
          "metadata": {},
          "execution_count": 30
        }
      ]
    },
    {
      "cell_type": "code",
      "source": [
        "data.isnull().sum()"
      ],
      "metadata": {
        "colab": {
          "base_uri": "https://localhost:8080/"
        },
        "id": "h1ppkWRjzOp6",
        "outputId": "cfc79166-fbc9-43aa-f8cd-31f21e72cf6a"
      },
      "execution_count": 31,
      "outputs": [
        {
          "output_type": "execute_result",
          "data": {
            "text/plain": [
              "id                      0\n",
              "year                    0\n",
              "issue_d                 1\n",
              "final_d                 1\n",
              "emp_length_int          1\n",
              "home_ownership          1\n",
              "home_ownership_cat      1\n",
              "income_category         1\n",
              "annual_inc              1\n",
              "income_cat              1\n",
              "loan_amount             1\n",
              "term                    1\n",
              "term_cat                1\n",
              "application_type        1\n",
              "application_type_cat    1\n",
              "purpose                 1\n",
              "purpose_cat             1\n",
              "interest_payments       1\n",
              "interest_payment_cat    1\n",
              "loan_condition          1\n",
              "loan_condition_cat      1\n",
              "interest_rate           1\n",
              "grade                   1\n",
              "grade_cat               1\n",
              "dti                     1\n",
              "total_pymnt             1\n",
              "total_rec_prncp         1\n",
              "recoveries              1\n",
              "installment             1\n",
              "region                  1\n",
              "dtype: int64"
            ]
          },
          "metadata": {},
          "execution_count": 31
        }
      ]
    },
    {
      "cell_type": "code",
      "source": [
        "data = data.dropna()\n"
      ],
      "metadata": {
        "id": "xnSPCGWbzXVW"
      },
      "execution_count": 32,
      "outputs": []
    },
    {
      "cell_type": "code",
      "source": [
        "sns.countplot(data=data,x='grade')\n",
        "plt.title(\"grade\")\n",
        "plt.show()"
      ],
      "metadata": {
        "colab": {
          "base_uri": "https://localhost:8080/",
          "height": 472
        },
        "id": "QyglTvi9qX2J",
        "outputId": "efcc4b77-60f3-421c-ad3b-68f2976c4b20"
      },
      "execution_count": 56,
      "outputs": [
        {
          "output_type": "display_data",
          "data": {
            "text/plain": [
              "<Figure size 640x480 with 1 Axes>"
            ],
            "image/png": "[encoded data removed]"
          },
          "metadata": {}
        }
      ]
    },
    {
      "cell_type": "code",
      "source": [
        "sns.countplot(data=data,x='home_ownership')\n",
        "plt.xticks(rotation=45)\n",
        "plt.title(\"Home ownership\")\n",
        "plt.show()"
      ],
      "metadata": {
        "colab": {
          "base_uri": "https://localhost:8080/",
          "height": 524
        },
        "id": "J72K4naedtAd",
        "outputId": "16ceba1b-aa76-48e4-c53b-2c0d9e6d9467"
      },
      "execution_count": 37,
      "outputs": [
        {
          "output_type": "display_data",
          "data": {
            "text/plain": [
              "<Figure size 640x480 with 1 Axes>"
            ],
            "image/png": "[encoded data removed]"
          },
          "metadata": {}
        }
      ]
    },
    {
      "cell_type": "code",
      "source": [
        "plt.pie(data['home_ownership'].value_counts(),labels=data['home_ownership'].value_counts().index,autopct='%1.1f%%')\n",
        "plt.title('home_ownership')\n",
        "plt.show()"
      ],
      "metadata": {
        "colab": {
          "base_uri": "https://localhost:8080/",
          "height": 428
        },
        "id": "eVlx_tURqNSy",
        "outputId": "5ce058f2-4574-4891-a426-9eac94a0ba76"
      },
      "execution_count": 55,
      "outputs": [
        {
          "output_type": "display_data",
          "data": {
            "text/plain": [
              "<Figure size 640x480 with 1 Axes>"
            ],
            "image/png": "[encoded data removed]"
          },
          "metadata": {}
        }
      ]
    },
    {
      "source": [
        "df['annual_inc'].plot(kind='line', figsize=(8, 4), title='annual_inc')\n",
        "plt.show()"
      ],
      "cell_type": "code",
      "execution_count": 53,
      "outputs": [
        {
          "output_type": "display_data",
          "data": {
            "text/plain": [
              "<Figure size 800x400 with 1 Axes>"
            ],
            "image/png": "[encoded data removed]"
          },
          "metadata": {}
        }
      ],
      "metadata": {
        "colab": {
          "base_uri": "https://localhost:8080/",
          "height": 391
        },
        "id": "B7QKWBOKpbWX",
        "outputId": "6454409e-1e5d-4802-a121-4c42150fab17"
      }
    },
    {
      "source": [
        "df.groupby('purpose_cat')['dti'].mean().plot(kind='bar')"
      ],
      "cell_type": "code",
      "execution_count": 51,
      "outputs": [
        {
          "output_type": "execute_result",
          "data": {
            "text/plain": [
              "<Axes: xlabel='purpose_cat'>"
            ]
          },
          "metadata": {},
          "execution_count": 51
        },
        {
          "output_type": "display_data",
          "data": {
            "text/plain": [
              "<Figure size 640x480 with 1 Axes>"
            ],
            "image/png": "[encoded data removed]"
          },
          "metadata": {}
        }
      ],
      "metadata": {
        "colab": {
          "base_uri": "https://localhost:8080/",
          "height": 483
        },
        "id": "et7wjfb7pPXp",
        "outputId": "d01298c4-7f49-447b-bcb7-1d5997fc8264"
      }
    }
  ]
}